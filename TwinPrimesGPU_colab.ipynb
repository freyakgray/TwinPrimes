{
  "nbformat": 4,
  "nbformat_minor": 0,
  "metadata": {
    "colab": {
      "name": "TwinPrimesGPU-colab.ipynb",
      "provenance": [],
      "collapsed_sections": [],
      "toc_visible": true,
      "authorship_tag": "ABX9TyNVAEZ2RDAggnHHdcEI3fud",
      "include_colab_link": true
    },
    "kernelspec": {
      "name": "python3",
      "display_name": "Python 3"
    },
    "language_info": {
      "name": "python"
    },
    "accelerator": "GPU"
  },
  "cells": [
    {
      "cell_type": "markdown",
      "metadata": {
        "id": "view-in-github",
        "colab_type": "text"
      },
      "source": [
        "<a href=\"https://colab.research.google.com/github/freyakgray/TwinPrimes/blob/plotFix/TwinPrimesGPU_colab.ipynb\" target=\"_parent\"><img src=\"https://colab.research.google.com/assets/colab-badge.svg\" alt=\"Open In Colab\"/></a>"
      ]
    },
    {
      "cell_type": "markdown",
      "source": [
        "# Twin Primes GPU\n",
        "\n",
        "This is an analytical tool for gathering data about \"hexas\" that will be used to prove the twin primes conjecture.\n",
        "This implementation utilizes Numba for CUDA GPU's to write GPU kernels to improve the performance of the tool.\n",
        "<br/>Contributors: Robbie Jordan, Freya Gray, Lucas Nieddu, Cory Gamble\n",
        "<br/>[Project repository](https://github.com/freyakgray/TwinPrimes)"
      ],
      "metadata": {
        "id": "4qcaaVrAMElv"
      }
    },
    {
      "cell_type": "code",
      "metadata": {
        "colab": {
          "base_uri": "https://localhost:8080/"
        },
        "id": "fACOq5uKRJH7",
        "outputId": "2c5a16ec-3273-4da3-e775-071622ff2d39"
      },
      "source": [
        "!find / -iname 'libdevice'\n",
        "!find / -iname 'libnvvm.so'"
      ],
      "execution_count": null,
      "outputs": [
        {
          "output_type": "stream",
          "name": "stdout",
          "text": [
            "/usr/local/lib/python3.7/dist-packages/jaxlib/cuda/nvvm/libdevice\n",
            "/usr/local/cuda-11.1/nvvm/libdevice\n",
            "/usr/local/cuda-10.0/nvvm/libdevice\n",
            "/usr/local/cuda-10.1/nvvm/libdevice\n",
            "/usr/local/cuda-11.0/nvvm/libdevice\n",
            "find: ‘/proc/31/task/31/net’: Invalid argument\n",
            "find: ‘/proc/31/net’: Invalid argument\n",
            "/usr/local/cuda-11.1/nvvm/lib64/libnvvm.so\n",
            "/usr/local/cuda-10.0/nvvm/lib64/libnvvm.so\n",
            "/usr/local/cuda-10.1/nvvm/lib64/libnvvm.so\n",
            "/usr/local/cuda-11.0/nvvm/lib64/libnvvm.so\n",
            "find: ‘/proc/31/task/31/net’: Invalid argument\n",
            "find: ‘/proc/31/net’: Invalid argument\n"
          ]
        }
      ]
    },
    {
      "cell_type": "code",
      "metadata": {
        "id": "VSxgO7T8RWQ9"
      },
      "source": [
        "import os\n",
        "os.environ['NUMBAPRO_LIBDEVICE'] = \"/usr/local/cuda-10.0/nvvm/libdevice\"\n",
        "os.environ['NUMBAPRO_NVVM'] = \"/usr/local/cuda-10.0/nvvm/lib64/libnvvm.so\""
      ],
      "execution_count": null,
      "outputs": []
    },
    {
      "cell_type": "code",
      "metadata": {
        "id": "BC5X50TMRmhy"
      },
      "source": [
        "import numpy as np\n",
        "from numba import njit, cuda\n",
        "from numpy.lib import math\n",
        "import matplotlib.pyplot as plt"
      ],
      "execution_count": null,
      "outputs": []
    },
    {
      "cell_type": "code",
      "metadata": {
        "colab": {
          "base_uri": "https://localhost:8080/",
          "height": 35
        },
        "id": "Bgbi8gXAWjd7",
        "outputId": "0e5b3db3-0598-4480-da20-65fa1c98acc0"
      },
      "source": [
        "import tensorflow as tf\n",
        "tf.test.gpu_device_name()"
      ],
      "execution_count": null,
      "outputs": [
        {
          "output_type": "execute_result",
          "data": {
            "application/vnd.google.colaboratory.intrinsic+json": {
              "type": "string"
            },
            "text/plain": [
              "'/device:GPU:0'"
            ]
          },
          "metadata": {},
          "execution_count": 4
        }
      ]
    },
    {
      "cell_type": "code",
      "metadata": {
        "id": "y5YHs43uIZu5"
      },
      "source": [
        "stream = cuda.stream()"
      ],
      "execution_count": null,
      "outputs": []
    },
    {
      "cell_type": "markdown",
      "source": [
        "## Generate Hexas"
      ],
      "metadata": {
        "id": "sr1K-brWMDYz"
      }
    },
    {
      "cell_type": "code",
      "metadata": {
        "id": "n55MBK7bRXrI"
      },
      "source": [
        "@cuda.jit\n",
        "def GenerateHexasGPU(hexaArray: np.array):\n",
        "    \"\"\"\n",
        "    Generates hexas, sextands and square sextands using a GPU\n",
        "\n",
        "    Parameters: \n",
        "    hexaArray (numpy array): an empty numpy array where the hexas, sextands and square sextands will be populated. \n",
        "    Size of the array will determine the number of hexas, sextands and square sextands generated. \n",
        "    The array must be sent to the host with cuda.to_device.\n",
        "    \"\"\"\n",
        "    x,y = cuda.grid(2)\n",
        "    if(x < hexaArray.shape[0] and y < hexaArray.shape[1]):\n",
        "        if(x == 0 ):\n",
        "            hexaArray[0,y] = 3*(y + 1) + (3/2) - ((-1)**(y + 1) * (1/2))\n",
        "        if(x == 1):\n",
        "            hexaArray[1,y] = ((1/2) * (y+1)) + (1/4) + ((1/4) * (-1)**((y+1) - 1))\n",
        "        if(x == 2):\n",
        "            currentSextand = ((1/2) * (y+1)) + (1/4) + ((1/4) * (-1)**((y+1) - 1))\n",
        "            if (y % 2 == 0):\n",
        "                hexaArray[2,y] = 6*(currentSextand**2) - 2*currentSextand\n",
        "            else:\n",
        "                hexaArray[2,y] = 6*(currentSextand**2) + 2*currentSextand\n",
        "\n",
        "def RunGenerateHexasGPU(hexas: int):\n",
        "    \"\"\"\n",
        "    Runs GenerateHexasGPU kernel. Initializes array, sends it to the GPU, runs the kernel and returns the array to the host.\n",
        "    \n",
        "    Parameters: \n",
        "    hexas (int): the number of hexas to generate\n",
        "\n",
        "    Returns:\n",
        "    hexaArray (numpy array): an array of hexas, sextands and square sextands of size hexas\n",
        "    \"\"\"\n",
        "    hexaArray = np.empty([3,hexas], dtype = np.uint64)\n",
        "\n",
        "    deviceHexa = cuda.to_device(hexaArray, stream = stream)\n",
        "\n",
        "    threadsPerBlock = (16,16)\n",
        "    blocksPerGridX = math.ceil(3 / threadsPerBlock[0])\n",
        "    blocksPerGridY = math.ceil(hexas / threadsPerBlock[1])\n",
        "    blocksPerGrid = (blocksPerGridX,blocksPerGridY)\n",
        "    GenerateHexasGPU[blocksPerGrid, threadsPerBlock](deviceHexa)\n",
        "    hexaArray = deviceHexa.copy_to_host(stream = stream)\n",
        "    \n",
        "    return hexaArray"
      ],
      "execution_count": null,
      "outputs": []
    },
    {
      "cell_type": "code",
      "metadata": {
        "colab": {
          "base_uri": "https://localhost:8080/"
        },
        "id": "I9H8s2zdRtHM",
        "outputId": "2155df64-fbc8-4d38-db61-d2eecb9fa340"
      },
      "source": [
        "hexaArray = RunGenerateHexasGPU(1000)\n",
        "\n",
        "print(hexaArray)"
      ],
      "execution_count": null,
      "outputs": [
        {
          "output_type": "stream",
          "name": "stdout",
          "text": [
            "[[      5       7      11 ...    2995    2999    3001]\n",
            " [      1       1       2 ...     499     500     500]\n",
            " [      4       8      20 ... 1495004 1499000 1501000]]\n"
          ]
        },
        {
          "output_type": "stream",
          "name": "stderr",
          "text": [
            "/usr/local/lib/python3.7/dist-packages/numba/cuda/envvars.py:17: NumbaWarning: \n",
            "Environment variables with the 'NUMBAPRO' prefix are deprecated and consequently ignored, found use of NUMBAPRO_NVVM=/usr/local/cuda-10.0/nvvm/lib64/libnvvm.so.\n",
            "\n",
            "For more information about alternatives visit: ('https://numba.pydata.org/numba-doc/latest/cuda/overview.html', '#cudatoolkit-lookup')\n",
            "  warnings.warn(errors.NumbaWarning(msg))\n",
            "/usr/local/lib/python3.7/dist-packages/numba/cuda/envvars.py:17: NumbaWarning: \n",
            "Environment variables with the 'NUMBAPRO' prefix are deprecated and consequently ignored, found use of NUMBAPRO_LIBDEVICE=/usr/local/cuda-10.0/nvvm/libdevice.\n",
            "\n",
            "For more information about alternatives visit: ('https://numba.pydata.org/numba-doc/latest/cuda/overview.html', '#cudatoolkit-lookup')\n",
            "  warnings.warn(errors.NumbaWarning(msg))\n"
          ]
        }
      ]
    },
    {
      "cell_type": "code",
      "metadata": {
        "id": "DWHI38s6Jvpa"
      },
      "source": [
        "@cuda.jit\n",
        "def GenerateCombosGPU(hexasChecked: int, length: int, hexaArray: np.array, comboArray: np.array):\n",
        "    \"\"\"\n",
        "    Generates combos of length hexasChecked and checks for validity. First column is the index.\n",
        "    Last column indicates validity, 0 for invalid, 1 for valid.\n",
        "    \n",
        "    Parameters: \n",
        "    hexasChecked (int): The number of hexas checked must be less than the number of hexas generated)\n",
        "    length (int): the number of indices to check combo validity\n",
        "    hexaArray (numpy array): An array of hexas, sextands and square sextands\n",
        "    comboArray (numpy array): A 2d array that the function will alter with the index, combo and validity\n",
        "    \"\"\"\n",
        "    x,y = cuda.grid(2)  \n",
        "    if(x < length and y < hexasChecked):\n",
        "      if(y == 0):\n",
        "        comboArray[x,0] = x\n",
        "      if(x == 0):\n",
        "          comboArray[0,-1] = 0\n",
        "      if(y!= 0 or y!= (hexasChecked + 2)):\n",
        "        comboArray[x, (y + 1)] = (x % hexaArray[0,y])\n",
        "        if((x % hexaArray[0,y] == hexaArray[1,y] or (x % hexaArray[0,y] == hexaArray[0,y] - hexaArray[1,y])) and x != hexaArray[1,y]):\n",
        "            comboArray[x,-1] = 0\n",
        "\n",
        "def RunGenerateCombosGPU(hexasChecked: int, length: int, hexaArray: np.array):\n",
        "    \"\"\"\n",
        "    Runs GeneratesCombosGPU kernel. Initializes arrays, sends them to the GPU, runs the kernel and returns the arrays to the host.\n",
        "    \n",
        "    Parameters:\n",
        "    hexasChecked (int): The number of hexas checked (must be less than the number of hexas generated)\n",
        "    length (int): The number of indices to check\n",
        "    hexaArray (numpy array): An array of hexas, sextands and square sextands\n",
        "    \n",
        "    Returns: \n",
        "    combosArray (numpy array): A 2d array of combos and their validity \n",
        "    \"\"\"\n",
        "    comboArray = np.zeros([length, (hexasChecked + 2)],dtype = np.uint64)\n",
        "    comboArray[:,-1] = 1\n",
        "    \n",
        "    deviceCombo = cuda.to_device(comboArray, stream = stream)\n",
        "    deviceHexa = cuda.to_device(hexaArray, stream = stream)\n",
        "\n",
        "    threadsPerBlock = (32,32)\n",
        "    blocksPerGridX = math.ceil(length / threadsPerBlock[0])\n",
        "    blocksPerGridY = math.ceil(hexasChecked / threadsPerBlock[1])\n",
        "    blocksPerGrid = (blocksPerGridX,blocksPerGridY)\n",
        "    GenerateCombosGPU[blocksPerGrid, threadsPerBlock](hexasChecked, length, deviceHexa, deviceCombo)\n",
        "\n",
        "    comboArray = deviceCombo.copy_to_host(stream = stream)\n",
        "    return comboArray"
      ],
      "execution_count": null,
      "outputs": []
    },
    {
      "cell_type": "markdown",
      "source": [
        "## Generate Combo Array"
      ],
      "metadata": {
        "id": "B4EnC9q1JDL_"
      }
    },
    {
      "cell_type": "code",
      "metadata": {
        "colab": {
          "base_uri": "https://localhost:8080/"
        },
        "id": "_cG6Nps2J1Kz",
        "outputId": "64862d53-c7f3-4772-ef46-943770e86339"
      },
      "source": [
        "comboArray = RunGenerateCombosGPU(250, 1000000, hexaArray)\n",
        "\n",
        "print(comboArray)"
      ],
      "execution_count": null,
      "outputs": [
        {
          "output_type": "stream",
          "name": "stdout",
          "text": [
            "[[     0      0      0 ...      0      0      0]\n",
            " [     1      1      1 ...      1      1      1]\n",
            " [     2      2      2 ...      2      2      1]\n",
            " ...\n",
            " [999997      2      5 ...     82    416      0]\n",
            " [999998      3      6 ...     83    417      0]\n",
            " [999999      4      0 ...     84    418      0]]\n"
          ]
        }
      ]
    },
    {
      "cell_type": "markdown",
      "source": [
        "## Find Invalid Chains"
      ],
      "metadata": {
        "id": "U2JO4uFQJknY"
      }
    },
    {
      "cell_type": "code",
      "metadata": {
        "id": "M4zd3qL2KZKi"
      },
      "source": [
        "def FindInvalidChainsGPU(hexasChecked: int, hexaArray: np.array):\n",
        "    \"\"\"\n",
        "    Determines the longest chain of consecutive invalid indices. Must pass in an array generated with GenerateComboArray\n",
        "    \n",
        "    Parameters: \n",
        "    hexasChecked (int): The number of hexas to be checked\n",
        "    hexaArray (numpyArray): An array of hexas, sextands and square sextands\n",
        "\n",
        "    Returns: \n",
        "    invalidStart (int): start of the longest invalid chain\n",
        "    maxInvalid (int): the length of the longest invalid chain\n",
        "    criticalZoneSize (int): the size of the critical area\n",
        "    \"\"\"\n",
        "    invalidStart = 0\n",
        "    invalidLength = 0\n",
        "    maxInvalid = 0\n",
        "    hexorial = 1\n",
        "    \n",
        "    for i in range(hexasChecked):\n",
        "        hexorial *= hexaArray[0,i]\n",
        "    hexorial = int((hexorial - 1)/2)\n",
        "\n",
        "    comboArray = RunGenerateCombosGPU(hexasChecked,hexorial,hexaArray)\n",
        "\n",
        "    for i in range(hexorial):\n",
        "        if(comboArray[i,-1] == 0):\n",
        "            invalidLength += 1\n",
        "            if(maxInvalid < invalidLength):\n",
        "                maxInvalid = invalidLength\n",
        "                invalidStart = i + 1 - maxInvalid\n",
        "        else:\n",
        "            invalidLength = 0\n",
        "\n",
        "    criticalZoneSize = (hexaArray[2,hexasChecked - 1] - hexaArray[2,hexasChecked - 2])\n",
        "    return invalidStart, maxInvalid, criticalZoneSize"
      ],
      "execution_count": null,
      "outputs": []
    },
    {
      "cell_type": "code",
      "metadata": {
        "colab": {
          "base_uri": "https://localhost:8080/"
        },
        "id": "jgS_eFwbKaBh",
        "outputId": "4f2386bb-814e-4896-be93-547ee7c985e2"
      },
      "source": [
        "invalidStart, maxInvalid, criticalZoneSize = FindInvalidChainsGPU(5, hexaArray)\n",
        "\n",
        "print(invalidStart)\n",
        "print(maxInvalid)\n",
        "print(criticalZoneSize)"
      ],
      "execution_count": null,
      "outputs": [
        {
          "output_type": "stream",
          "name": "stdout",
          "text": [
            "118\n",
            "17\n",
            "20\n"
          ]
        }
      ]
    },
    {
      "cell_type": "markdown",
      "source": [
        "## View Critical Combos"
      ],
      "metadata": {
        "id": "VYvpO-c9Juro"
      }
    },
    {
      "cell_type": "code",
      "metadata": {
        "id": "IKqVL51-LR7b"
      },
      "source": [
        "def ViewCritCombosGPU(hexasChecked: int, comboArray: np.array):\n",
        "    \"\"\"\n",
        "    Slices an array generated with GenerateComboArray to contain the combos of the critical area.\n",
        "\n",
        "    Parameters: \n",
        "    hexasChecked (int): The number of hexas to be checked\n",
        "    comboArray (numpy array): An array of combos generated with GenerateComboGPU. Array must have \n",
        "    more indices than the critical area.  \n",
        "   \n",
        "    RETURNS:\n",
        "    critCombosArray (numpy array): An array of combos in the critical area\n",
        "    \"\"\"\n",
        "    sextand = int(((1/2) * (hexasChecked)) + (1/4) + ((1/4) * (-1)**((hexasChecked) - 1)))\n",
        "    if((hexasChecked - 1) % 2 == 0):\n",
        "        endPoint = 6*(sextand**2) - 2*sextand\n",
        "    else:\n",
        "        endPoint = 6*(sextand**2) + 2*sextand\n",
        "    critCombosArray = comboArray[:endPoint+1,:]\n",
        "    return critCombosArray"
      ],
      "execution_count": null,
      "outputs": []
    },
    {
      "cell_type": "code",
      "metadata": {
        "colab": {
          "base_uri": "https://localhost:8080/"
        },
        "id": "dQrUZ6xDLT0P",
        "outputId": "85860548-6d0a-4e1c-ebcb-49f19f223107"
      },
      "source": [
        "critCombosArray = ViewCritCombosGPU(6, comboArray)\n",
        "\n",
        "print(critCombosArray)"
      ],
      "execution_count": null,
      "outputs": [
        {
          "output_type": "stream",
          "name": "stdout",
          "text": [
            "[[ 0  0  0 ...  0  0  0]\n",
            " [ 1  1  1 ...  1  1  1]\n",
            " [ 2  2  2 ...  2  2  1]\n",
            " ...\n",
            " [58  3  2 ... 58 58  1]\n",
            " [59  4  3 ... 59 59  0]\n",
            " [60  0  4 ... 60 60  0]]\n"
          ]
        }
      ]
    },
    {
      "cell_type": "markdown",
      "source": [
        "## Find Average Gap"
      ],
      "metadata": {
        "id": "TXJrZZIOJxnr"
      }
    },
    {
      "cell_type": "code",
      "metadata": {
        "id": "Jn3vVFhwLt9I"
      },
      "source": [
        "def FindAverageGapGPU(hexasChecked: int, hexaArray: np.array):\n",
        "    \"\"\"\n",
        "    Calculates the hexorial, lexorial and gap of a hexasChecked amount of hexas.\n",
        "    \n",
        "    Parameters: \n",
        "    hexasChecked (int): The number of hexas to be checked\n",
        "    hexaArray (numpy array): An array of hexas, generated with GenerateHexasGPU \n",
        "    \n",
        "    Returns:\n",
        "    num (int): Hexorial of n hexas\n",
        "    denom (int): Lexorial of n hexas\n",
        "    gap (float): average of hexorial/lexorial\n",
        "    \"\"\"\n",
        "    num, denom = 1,1\n",
        "    for i in range(hexasChecked):\n",
        "        num *= int(hexaArray[0,i])\n",
        "        denom *= int(hexaArray[0,i])-2\n",
        "    gap = num/denom\n",
        "    return num, denom, gap"
      ],
      "execution_count": null,
      "outputs": []
    },
    {
      "cell_type": "code",
      "metadata": {
        "colab": {
          "base_uri": "https://localhost:8080/"
        },
        "id": "QY9dk-hkLv7x",
        "outputId": "d0936e7b-b02e-4a63-dded-2af71e254f9a"
      },
      "source": [
        "num, denom, gap = FindAverageGapGPU(10, hexaArray)\n",
        "\n",
        "print(num)\n",
        "print(denom)\n",
        "print(gap)"
      ],
      "execution_count": null,
      "outputs": [
        {
          "output_type": "stream",
          "name": "stdout",
          "text": [
            "835668708875\n",
            "143210719575\n",
            "5.835238530711782\n"
          ]
        }
      ]
    },
    {
      "cell_type": "markdown",
      "source": [
        "## Valid Coordinates"
      ],
      "metadata": {
        "id": "wNw9_fC7J8hD"
      }
    },
    {
      "cell_type": "code",
      "metadata": {
        "id": "3JNiKcLSMajY"
      },
      "source": [
        "def ValidCoordinatesGPU(comboArray: np.array, hexaArray: np.array):\n",
        "    \"\"\"\n",
        "    Calculates coordinates where x is the number of hexas checked and y is the number of valid combos in critical area.\n",
        "\n",
        "    Parameters:\n",
        "    comboArray (numpy array): An array of combos generated with GenerateComboGPU. Array must have \n",
        "    more indices than the critical area. \n",
        "    hexaArray (numpy array): An array of hexas, sextands and square sextands generated with GenerateHexasGPU.\n",
        "\n",
        "    Returns: \n",
        "    coordinatesArray (numpy array): An array of coordinates where the first column is the number of hexas checked \n",
        "    and the second column is the number of valid combos in critical area\n",
        "    \"\"\"\n",
        "    coordinatesArray = np.zeros([(comboArray.shape[1] - 3),2],dtype = int)\n",
        "\n",
        "    for i in range(2, comboArray.shape[1] - 1):\n",
        "        coordinatesArray[i-2,0] = i\n",
        "        validNum = 0\n",
        "        for j in range(int(hexaArray[2,i-2]), int(hexaArray[2, i-1])):\n",
        "            if(comboArray[j,-1] == 1):\n",
        "                validNum += 1\n",
        "        coordinatesArray[i-2,1] = validNum\n",
        "    return coordinatesArray"
      ],
      "execution_count": null,
      "outputs": []
    },
    {
      "cell_type": "code",
      "metadata": {
        "id": "TyX5LS-sMfK2"
      },
      "source": [
        "coordinatesArray = ValidCoordinatesGPU(comboArray, hexaArray)"
      ],
      "execution_count": null,
      "outputs": []
    },
    {
      "cell_type": "code",
      "source": [
        "def plotCoordinates(coordinatesArray: np.array):\n",
        "  \"\"\" \n",
        "  Plots valid coordinates \n",
        "  Parameters: \n",
        "  coordinatesArray (numpy array): An array of coordinates where the first column is the number of hexas checked \n",
        "  and the second column is the number of valid combos in critical area generated with ValidCoordinatesGPU\n",
        "\n",
        "  Returns:\n",
        "  plot: A plot of valid coordinates\n",
        "  \"\"\"\n",
        "  x = coordinatesArray[:,:1]\n",
        "  y = coordinatesArray[:,-1:]\n",
        "  plot = plt.plot(x,y,linestyle = 'None', marker=\".\", markersize=5)\n",
        "  return plot\n"
      ],
      "metadata": {
        "id": "itGFDgSyKAje"
      },
      "execution_count": null,
      "outputs": []
    },
    {
      "cell_type": "code",
      "source": [
        "plot = plotCoordinates(coordinatesArray)"
      ],
      "metadata": {
        "colab": {
          "base_uri": "https://localhost:8080/",
          "height": 265
        },
        "id": "Qsz-WjOnKvJn",
        "outputId": "c5b1bf30-5e0e-456c-86d6-81a62da00bcd"
      },
      "execution_count": null,
      "outputs": [
        {
          "output_type": "display_data",
          "data": {
            "image/png": "[encoded data removed]",
            "text/plain": [
              "<Figure size 432x288 with 1 Axes>"
            ]
          },
          "metadata": {
            "needs_background": "light"
          }
        }
      ]
    },
    {
      "cell_type": "markdown",
      "source": [
        "## Valid Number Approximation"
      ],
      "metadata": {
        "id": "o8wrQWUWK7qJ"
      }
    },
    {
      "cell_type": "code",
      "metadata": {
        "id": "-iVFaxnAPRKa"
      },
      "source": [
        "def ValidNumApproximationGPU(hexasChecked: int, hexaArray: np.array, comboArray: np.array):\n",
        "    \"\"\"\n",
        "    Calculates the expected number of valid combos within the domain (i.e. [1, A] where A is the upper bound of\n",
        "    the critical area), calculates the actual number of valid combos and calculates the error between the two.\n",
        "    \n",
        "    Parameters: \n",
        "    hexasChecked (int): The number of hexas to be checked\n",
        "    hexaArray (numpy array): An array of hexas, sextands and square sextands generated with GenerateHexasGPU\n",
        "    comboArray (numpy array): An array of combos generated with GenerateCombosGPU. The array must have been generated with at least hexasChecked of hexas.\n",
        "\n",
        "    Returns: \n",
        "    comboApproximation (float): The expected number of valid combos\n",
        "    comboTrue (int): The actual number of valid combos\n",
        "    errorPercent (int): The error between comboApproximation and comboTrue\n",
        "    \"\"\"\n",
        "    endPoint = int(hexaArray[2,hexasChecked - 1])\n",
        "    \n",
        "    comboApproximation = 1\n",
        "    for i in range(hexasChecked):\n",
        "        comboApproximation *= (float(hexaArray[0,i]-2))/(float(hexaArray[0,i]))\n",
        "    comboApproximation *= endPoint\n",
        "\n",
        "    comboTrue = np.count_nonzero(comboArray[1:endPoint,-1:])\n",
        "    error = abs(comboTrue - comboApproximation)/comboTrue\n",
        "    errorPercent = error * 100\n",
        "    return comboApproximation, comboTrue, errorPercent"
      ],
      "execution_count": null,
      "outputs": []
    },
    {
      "cell_type": "code",
      "metadata": {
        "colab": {
          "base_uri": "https://localhost:8080/"
        },
        "id": "BJXK7oviPUjA",
        "outputId": "d002afbb-5392-460b-d9e3-ed269201fac6"
      },
      "source": [
        "comboApproximation, comboTrue, errorPercent = ValidNumApproximationGPU(25,hexaArray,comboArray)\n",
        "\n",
        "print(comboApproximation)\n",
        "print(comboTrue)\n",
        "print(errorPercent)"
      ],
      "execution_count": null,
      "outputs": [
        {
          "output_type": "stream",
          "name": "stdout",
          "text": [
            "94.34918537940382\n",
            "142\n",
            "33.556911704645195\n"
          ]
        }
      ]
    },
    {
      "cell_type": "markdown",
      "source": [
        "## View Critical Area"
      ],
      "metadata": {
        "id": "pO8OcNToMhVJ"
      }
    },
    {
      "cell_type": "code",
      "metadata": {
        "id": "57i8apLVQQwP"
      },
      "source": [
        "def ViewCritAreaGPU(hexaArray):\n",
        "    \"\"\"\n",
        "    Calculates the start and end indices of the critical area\n",
        "    \n",
        "    Parameters:\n",
        "    hexaArray (numpy array): An array of hexas, sextands and square sextands generated with GenerateHexasGPU\n",
        "\n",
        "    Returns:\n",
        "    start (int): start of the critical area\n",
        "    end (int): end of the critical area\n",
        "    \"\"\"\n",
        "    length = hexaArray.shape[1]\n",
        "    start = hexaArray[2,length - 2]\n",
        "    end = hexaArray[2,length - 1]\n",
        "    return start, end"
      ],
      "execution_count": null,
      "outputs": []
    },
    {
      "cell_type": "code",
      "metadata": {
        "colab": {
          "base_uri": "https://localhost:8080/"
        },
        "id": "VhuZlMQNQRvX",
        "outputId": "791e3173-cf56-43e6-ebc8-433b7ec9c306"
      },
      "source": [
        "start, end = ViewCritAreaGPU(hexaArray)\n",
        "\n",
        "print(start)\n",
        "print(end)"
      ],
      "execution_count": null,
      "outputs": [
        {
          "output_type": "stream",
          "name": "stdout",
          "text": [
            "1499000\n",
            "1501000\n"
          ]
        }
      ]
    }
  ]
}